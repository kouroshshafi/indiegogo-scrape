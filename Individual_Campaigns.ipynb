{
 "cells": [
  {
   "cell_type": "code",
   "execution_count": null,
   "metadata": {},
   "outputs": [],
   "source": [
    "import csv\n",
    "import tablib\n",
    "import unicodedata\n",
    "import re\n",
    "import time\n",
    "#from lxml import html\n",
    "import requests\n",
    "\n",
    "\n",
    "#from lxml.cssselect import CSSSelector\n",
    "\n",
    "import urllib2\n",
    "\n",
    "\n",
    "import urllib\n",
    "\n",
    "import logging\n",
    "import requests\n",
    "import re\n",
    "\n",
    "import json\n",
    "import unirest\n",
    "\n",
    "import pandas as pd\n",
    "\n",
    "from time import gmtime, strftime\n",
    "\n",
    "import os\n",
    "from os import listdir\n",
    "from os.path import isfile, join\n",
    "import re\n",
    "\n",
    "import pickle\n",
    "import random\n",
    "\n",
    "#listoflists_projects=[];\n",
    "unirest.timeout(1000000)\n",
    "\n",
    "#import ucsv as csv\n",
    "import tablib\n",
    "import unicodedata\n",
    "import re\n",
    "import time\n",
    "from lxml import html\n",
    "import requests\n",
    "\n",
    "\n",
    "\n",
    "import urllib2\n",
    "\n",
    "import unirest\n",
    "\n",
    "import logging\n",
    "\n",
    "\n",
    "#install CSSSelector\n",
    "from lxml.cssselect import CSSSelector\n",
    "\n"
   ]
  },
  {
   "cell_type": "code",
   "execution_count": null,
   "metadata": {},
   "outputs": [],
   "source": [
    "def extract_css(tree, text):\n",
    "\tsel = CSSSelector(text)\n",
    "\treturn [e for e in sel(tree)]\n"
   ]
  },
  {
   "cell_type": "code",
   "execution_count": null,
   "metadata": {},
   "outputs": [],
   "source": [
    "def parser_fun(who, what, element_):\n",
    "    if element_:\n",
    "        x=extract_css(element_[0].getparent(),'div.i-campaign > a')\n",
    "        y=extract_css(element_[0].getparent(),'div.i-author > a')\n",
    "        if x:\n",
    "            for each_project in xrange(len(x)):\n",
    "                linktocampaign= x[each_project].get('href')\n",
    "                authorbehindit=y[each_project].get('href')\n",
    "                list_of_lists.append([who, what, linktocampaign, authorbehindit])\n",
    "    else:\n",
    "        #who, what, linktocampaign, author-behindthat\n",
    "        list_of_lists.append([who, what, \"\",\"\"])\n",
    "    return True\n",
    "\n"
   ]
  },
  {
   "cell_type": "code",
   "execution_count": null,
   "metadata": {},
   "outputs": [],
   "source": [
    "def get_project(account_id):\n",
    "    url = \"https://www.indiegogo.com/individuals/\"+account_id+\"/campaigns\"\n",
    "    def callback_function(response):\n",
    "        def status_check(response, url):\n",
    "            if response.code!=200:\n",
    "                print(response.code, \"for:\", url)\n",
    "                time.sleep(random.uniform(1, 30))\n",
    "                s2=unirest.get(url, headers=hdrs, callback=callback_function)\n",
    "                return status_check(s2, url)\n",
    "            else:\n",
    "                return response\n",
    "        response= status_check(response, url)\n",
    "        tree = html.fromstring(response.body)\n",
    "        #print user, len(listoflists[user])      \n",
    "        temp_on =tree.xpath(\"//h3[contains(text(),'On')]\")\n",
    "        temp_following =tree.xpath(\"//h3[contains(text(),'Following')]\")\n",
    "        temp_funded =tree.xpath(\"//h3[contains(text(),'Funded')]\")\n",
    "        parser_fun(account_id, 1,temp_on)  \n",
    "        parser_fun(account_id, 2,temp_following)  \n",
    "        parser_fun(account_id, 3,temp_funded)  \n",
    "        return True\n",
    "    unirest.get(url, headers=hdrs, callback=callback_function)\n",
    "    return True"
   ]
  },
  {
   "cell_type": "code",
   "execution_count": null,
   "metadata": {},
   "outputs": [],
   "source": [
    "def collect_data( a, z ):\n",
    "    for i in range(a,z, 1):     \n",
    "        #if df.loc[i, 'funder_id'] not in li: #and df.loc[i, 'CustomerId'] not in placesList\n",
    "            #li.append(df.loc[i, 'funder_id'])\n",
    "        get_project(str(df.iloc[i, 0]))\n",
    "        if i%5==0 and i >0 :\n",
    "            time.sleep(random.uniform(2, 10))\n",
    "        if i%200==0 and i >0 :\n",
    "            print(i)\n",
    "            df_output = pd.DataFrame(list_of_lists)\n",
    "            df_output.to_csv(\"output.csv\", sep=',')\n",
    "    return True\n",
    "\n"
   ]
  },
  {
   "cell_type": "code",
   "execution_count": null,
   "metadata": {},
   "outputs": [],
   "source": [
    "#inputs of the program\n",
    "df = pd.read_csv('input.csv', low_memory=False, encoding='utf-8')"
   ]
  },
  {
   "cell_type": "code",
   "execution_count": null,
   "metadata": {
    "scrolled": true
   },
   "outputs": [],
   "source": [
    "#main function call\n",
    "hdrs= {\n",
    "\"User-Agent\": \"Mozilla/5.0 (Macintosh; Intel Mac OS X 10_13_4) AppleWebKit/605.1.15 (KHTML, like Gecko) Version/11.1 Safari/605.1.15\"\n",
    "}\n",
    "\n",
    "\n",
    "list_of_lists=[] #turn this on ONLY for the first time. it saves all the output from crawling\n",
    "#li=[]\n",
    "collect_data(0,len(df)) #\n"
   ]
  },
  {
   "cell_type": "code",
   "execution_count": null,
   "metadata": {
    "scrolled": true
   },
   "outputs": [],
   "source": [
    "# put the outputs in a nice csv file for exporting into statistical packages\n",
    "#list_of_lists\n",
    "df_output = pd.DataFrame(list_of_lists)\n",
    "df_output.to_csv(\"output.csv\", sep=',')"
   ]
  }
 ],
 "metadata": {
  "kernelspec": {
   "display_name": "Python 2",
   "language": "python",
   "name": "python2"
  },
  "language_info": {
   "codemirror_mode": {
    "name": "ipython",
    "version": 2
   },
   "file_extension": ".py",
   "mimetype": "text/x-python",
   "name": "python",
   "nbconvert_exporter": "python",
   "pygments_lexer": "ipython2",
   "version": "2.7.14"
  }
 },
 "nbformat": 4,
 "nbformat_minor": 2
}
