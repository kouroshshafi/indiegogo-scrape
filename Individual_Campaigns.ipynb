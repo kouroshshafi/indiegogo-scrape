{
 "cells": [
  {
   "cell_type": "code",
   "execution_count": 1,
   "metadata": {},
   "outputs": [],
   "source": [
    "import csv\n",
    "import tablib\n",
    "import unicodedata\n",
    "import re\n",
    "import time\n",
    "#from lxml import html\n",
    "import requests\n",
    "\n",
    "\n",
    "#from lxml.cssselect import CSSSelector\n",
    "\n",
    "import urllib2\n",
    "\n",
    "\n",
    "import urllib\n",
    "\n",
    "import logging\n",
    "import requests\n",
    "import re\n",
    "\n",
    "import json\n",
    "import unirest\n",
    "\n",
    "import pandas as pd\n",
    "\n",
    "from time import gmtime, strftime\n",
    "\n",
    "import os\n",
    "from os import listdir\n",
    "from os.path import isfile, join\n",
    "import re\n",
    "\n",
    "import pickle\n",
    "import random\n",
    "\n",
    "#listoflists_projects=[];\n",
    "unirest.timeout(1000000)\n",
    "\n",
    "#import ucsv as csv\n",
    "import tablib\n",
    "import unicodedata\n",
    "import re\n",
    "import time\n",
    "from lxml import html\n",
    "import requests\n",
    "\n",
    "\n",
    "\n",
    "import urllib2\n",
    "\n",
    "import unirest\n",
    "\n",
    "import logging\n",
    "\n"
   ]
  },
  {
   "cell_type": "code",
   "execution_count": 2,
   "metadata": {},
   "outputs": [],
   "source": [
    "from lxml.cssselect import CSSSelector\n",
    "\n"
   ]
  },
  {
   "cell_type": "code",
   "execution_count": null,
   "metadata": {},
   "outputs": [],
   "source": []
  },
  {
   "cell_type": "code",
   "execution_count": 3,
   "metadata": {},
   "outputs": [],
   "source": [
    "def parser_fun(who, what, element_):\n",
    "    if element_:\n",
    "        x=extract_css(element_[0].getparent(),'div.i-campaign > a')\n",
    "        y=extract_css(element_[0].getparent(),'div.i-author > a')\n",
    "        if x:\n",
    "            for each_project in xrange(len(x)):\n",
    "                linktocampaign= x[each_project].get('href')\n",
    "                authorbehindit=y[each_project].get('href')\n",
    "                list_of_lists.append([who, what, linktocampaign, authorbehindit])\n",
    "    else:\n",
    "        #who, what, linktocampaign, author-behindthat\n",
    "        list_of_lists.append([who, what, \"\",\"\"])\n",
    "    return True\n",
    "\n",
    "\n",
    "\n",
    "\n",
    "#x=extract_css(temp2[0].getparent(),'div.i-campaign > a')\n",
    "#x[0].text\n",
    "#x[0].get('href')\n",
    "\n",
    "#y=extract_css(temp2[0].getparent(),'div.i-author > a')\n",
    "#y[0].text\n",
    "#y[0].get('href')\n",
    "\n",
    "\n",
    "#y=temp2[0].getparent().xpath('.//li/a/@href')"
   ]
  },
  {
   "cell_type": "code",
   "execution_count": 4,
   "metadata": {
    "scrolled": false
   },
   "outputs": [],
   "source": [
    "\n",
    "\n",
    "def extract_css(tree, text):\n",
    "\tsel = CSSSelector(text)\n",
    "\treturn [e for e in sel(tree)]\n",
    "\n"
   ]
  },
  {
   "cell_type": "code",
   "execution_count": 5,
   "metadata": {},
   "outputs": [
    {
     "ename": "NameError",
     "evalue": "name 'df' is not defined",
     "output_type": "error",
     "traceback": [
      "\u001b[0;31m---------------------------------------------------------------------------\u001b[0m",
      "\u001b[0;31mNameError\u001b[0m                                 Traceback (most recent call last)",
      "\u001b[0;32m<ipython-input-5-9e5e9627f858>\u001b[0m in \u001b[0;36m<module>\u001b[0;34m()\u001b[0m\n\u001b[0;32m----> 1\u001b[0;31m \u001b[0mdf\u001b[0m\u001b[0;34m.\u001b[0m\u001b[0mloc\u001b[0m\u001b[0;34m[\u001b[0m\u001b[0;36m0\u001b[0m\u001b[0;34m,\u001b[0m \u001b[0;34m[\u001b[0m\u001b[0;34m'id'\u001b[0m\u001b[0;34m]\u001b[0m\u001b[0;34m]\u001b[0m\u001b[0;34m\u001b[0m\u001b[0m\n\u001b[0m\u001b[1;32m      2\u001b[0m \u001b[0;34m\u001b[0m\u001b[0m\n\u001b[1;32m      3\u001b[0m \u001b[0mlen\u001b[0m\u001b[0;34m(\u001b[0m\u001b[0mdf\u001b[0m\u001b[0;34m)\u001b[0m\u001b[0;34m\u001b[0m\u001b[0m\n",
      "\u001b[0;31mNameError\u001b[0m: name 'df' is not defined"
     ]
    }
   ],
   "source": [
    "df.loc[0, ['id']]\n",
    "\n",
    "len(df)"
   ]
  },
  {
   "cell_type": "code",
   "execution_count": 6,
   "metadata": {},
   "outputs": [],
   "source": [
    "def get_project(account_id):\n",
    "    url = \"https://www.indiegogo.com/individuals/\"+account_id+\"/campaigns\"\n",
    "    def callback_function(response):\n",
    "        def status_check(response, url):\n",
    "            if response.code!=200:\n",
    "                print(response.code, \"for:\", url)\n",
    "                time.sleep(random.uniform(1, 30))\n",
    "                s2=unirest.get(url, headers=hdrs, callback=callback_function)\n",
    "                return status_check(s2, url)\n",
    "            else:\n",
    "                return response\n",
    "        response= status_check(response, url)\n",
    "        tree = html.fromstring(response.body)\n",
    "        #print user, len(listoflists[user])      \n",
    "        temp_on =tree.xpath(\"//h3[contains(text(),'On')]\")\n",
    "        temp_following =tree.xpath(\"//h3[contains(text(),'Following')]\")\n",
    "        temp_funded =tree.xpath(\"//h3[contains(text(),'Funded')]\")\n",
    "        parser_fun(account_id, 1,temp_on)  \n",
    "        parser_fun(account_id, 2,temp_following)  \n",
    "        parser_fun(account_id, 3,temp_funded)  \n",
    "        return True\n",
    "    unirest.get(url, headers=hdrs, callback=callback_function)\n",
    "    return True"
   ]
  },
  {
   "cell_type": "code",
   "execution_count": 7,
   "metadata": {},
   "outputs": [],
   "source": [
    "#account_id = 11753157\n",
    "#url_test = \"https://www.indiegogo.com/individuals/19107726/campaigns\"\n",
    "#response=unirest.get(url_test, headers=hdrs)\n",
    "#tree = html.fromstring(response.body)\n",
    "\n",
    "\n",
    "#text_=[\"IamON\",\"Following\",\"Funded\"]\n",
    "\n",
    "#temp_on =tree.xpath(\"//h3[contains(text(),'On')]\")\n",
    "#temp_following =tree.xpath(\"//h3[contains(text(),'Following')]\")\n",
    "#temp_funded =tree.xpath(\"//h3[contains(text(),'Funded')]\")\n",
    "\n",
    "#parser_fun(account_id, 1,temp_on)  \n",
    "#parser_fun(account_id, 2,temp_following)  \n",
    "#parser_fun(account_id, 3,temp_funded)  \n",
    "\n",
    "hdrs= {\n",
    "\"User-Agent\": \"Mozilla/5.0 (Macintosh; Intel Mac OS X 10_13_4) AppleWebKit/605.1.15 (KHTML, like Gecko) Version/11.1 Safari/605.1.15\"\n",
    "}\n",
    "\n",
    "\n",
    "df = pd.read_csv('input.csv', low_memory=False, encoding='utf-8')"
   ]
  },
  {
   "cell_type": "code",
   "execution_count": 8,
   "metadata": {},
   "outputs": [
    {
     "data": {
      "text/html": [
       "<div>\n",
       "<style scoped>\n",
       "    .dataframe tbody tr th:only-of-type {\n",
       "        vertical-align: middle;\n",
       "    }\n",
       "\n",
       "    .dataframe tbody tr th {\n",
       "        vertical-align: top;\n",
       "    }\n",
       "\n",
       "    .dataframe thead th {\n",
       "        text-align: right;\n",
       "    }\n",
       "</style>\n",
       "<table border=\"1\" class=\"dataframe\">\n",
       "  <thead>\n",
       "    <tr style=\"text-align: right;\">\n",
       "      <th></th>\n",
       "      <th>funder_id</th>\n",
       "    </tr>\n",
       "  </thead>\n",
       "  <tbody>\n",
       "    <tr>\n",
       "      <th>0</th>\n",
       "      <td>458561</td>\n",
       "    </tr>\n",
       "    <tr>\n",
       "      <th>1</th>\n",
       "      <td>3408600</td>\n",
       "    </tr>\n",
       "    <tr>\n",
       "      <th>2</th>\n",
       "      <td>5486679</td>\n",
       "    </tr>\n",
       "    <tr>\n",
       "      <th>3</th>\n",
       "      <td>11800603</td>\n",
       "    </tr>\n",
       "    <tr>\n",
       "      <th>4</th>\n",
       "      <td>12086050</td>\n",
       "    </tr>\n",
       "    <tr>\n",
       "      <th>5</th>\n",
       "      <td>12122709</td>\n",
       "    </tr>\n",
       "    <tr>\n",
       "      <th>6</th>\n",
       "      <td>12552148</td>\n",
       "    </tr>\n",
       "    <tr>\n",
       "      <th>7</th>\n",
       "      <td>12949320</td>\n",
       "    </tr>\n",
       "    <tr>\n",
       "      <th>8</th>\n",
       "      <td>13068928</td>\n",
       "    </tr>\n",
       "    <tr>\n",
       "      <th>9</th>\n",
       "      <td>13362661</td>\n",
       "    </tr>\n",
       "    <tr>\n",
       "      <th>10</th>\n",
       "      <td>13787589</td>\n",
       "    </tr>\n",
       "    <tr>\n",
       "      <th>11</th>\n",
       "      <td>13821379</td>\n",
       "    </tr>\n",
       "  </tbody>\n",
       "</table>\n",
       "</div>"
      ],
      "text/plain": [
       "    funder_id\n",
       "0      458561\n",
       "1     3408600\n",
       "2     5486679\n",
       "3    11800603\n",
       "4    12086050\n",
       "5    12122709\n",
       "6    12552148\n",
       "7    12949320\n",
       "8    13068928\n",
       "9    13362661\n",
       "10   13787589\n",
       "11   13821379"
      ]
     },
     "execution_count": 8,
     "metadata": {},
     "output_type": "execute_result"
    }
   ],
   "source": [
    "#list_of_lists=[]\n",
    "#for cntr in xrange(len(df)):\n",
    "#    print(cntr)\n",
    "#    get_project(str(df.iloc[cntr, 0]))\n",
    "#    time.sleep(0+random.uniform(0, 2))\n",
    "df    "
   ]
  },
  {
   "cell_type": "code",
   "execution_count": 11,
   "metadata": {
    "scrolled": true
   },
   "outputs": [
    {
     "name": "stderr",
     "output_type": "stream",
     "text": [
      "Exception in thread Thread-9:\n",
      "Traceback (most recent call last):\n",
      "  File \"/Users/kourosh/anaconda3/envs/python2/lib/python2.7/threading.py\", line 801, in __bootstrap_inner\n",
      "    self.run()\n",
      "  File \"/Users/kourosh/anaconda3/envs/python2/lib/python2.7/threading.py\", line 754, in run\n",
      "    self.__target(*self.__args, **self.__kwargs)\n",
      "  File \"/Users/kourosh/anaconda3/envs/python2/lib/python2.7/site-packages/unirest/__init__.py\", line 108, in __request\n",
      "    callback(_unirestResponse)\n",
      "  File \"<ipython-input-6-c1beae98d3d5>\", line 12, in callback_function\n",
      "    response= status_check(response, url)\n",
      "  File \"<ipython-input-6-c1beae98d3d5>\", line 9, in status_check\n",
      "    return status_check(s2, url)\n",
      "  File \"<ipython-input-6-c1beae98d3d5>\", line 5, in status_check\n",
      "    if response.code!=200:\n",
      "AttributeError: 'Thread' object has no attribute 'code'\n",
      "\n"
     ]
    },
    {
     "data": {
      "text/plain": [
       "True"
      ]
     },
     "execution_count": 11,
     "metadata": {},
     "output_type": "execute_result"
    }
   ],
   "source": [
    "def collect_data( a, z ):\n",
    "    for i in range(a,z, 1):     \n",
    "        #if df.loc[i, 'funder_id'] not in li: #and df.loc[i, 'CustomerId'] not in placesList\n",
    "            #li.append(df.loc[i, 'funder_id'])\n",
    "        get_project(str(df.iloc[i, 0]))\n",
    "        if i%5==0 and i >0 :\n",
    "            time.sleep(random.uniform(2, 10))\n",
    "        if i%200==0 and i >0 :\n",
    "            print(i)\n",
    "            df_output = pd.DataFrame(list_of_lists)\n",
    "            df_output.to_csv(\"output.csv\", sep=',')\n",
    "    return True\n",
    "\n",
    "\n",
    "\n",
    "#list_of_lists=[] #turn this on for the first time\n",
    "#li=[]\n",
    "collect_data(0,len(df)) #\n"
   ]
  },
  {
   "cell_type": "code",
   "execution_count": 13,
   "metadata": {
    "scrolled": true
   },
   "outputs": [
    {
     "data": {
      "text/plain": [
       "[]"
      ]
     },
     "execution_count": 13,
     "metadata": {},
     "output_type": "execute_result"
    },
    {
     "name": "stdout",
     "output_type": "stream",
     "text": [
      "(503, 'for:', 'https://www.indiegogo.com/individuals/12122709/campaigns')\n"
     ]
    },
    {
     "name": "stderr",
     "output_type": "stream",
     "text": [
      "Exception in thread Thread-27:\n",
      "Traceback (most recent call last):\n",
      "  File \"/Users/kourosh/anaconda3/envs/python2/lib/python2.7/threading.py\", line 801, in __bootstrap_inner\n",
      "    self.run()\n",
      "  File \"/Users/kourosh/anaconda3/envs/python2/lib/python2.7/threading.py\", line 754, in run\n",
      "    self.__target(*self.__args, **self.__kwargs)\n",
      "  File \"/Users/kourosh/anaconda3/envs/python2/lib/python2.7/site-packages/unirest/__init__.py\", line 108, in __request\n",
      "    callback(_unirestResponse)\n",
      "  File \"<ipython-input-6-c1beae98d3d5>\", line 12, in callback_function\n",
      "    response= status_check(response, url)\n",
      "  File \"<ipython-input-6-c1beae98d3d5>\", line 9, in status_check\n",
      "    return status_check(s2, url)\n",
      "  File \"<ipython-input-6-c1beae98d3d5>\", line 5, in status_check\n",
      "    if response.code!=200:\n",
      "AttributeError: 'Thread' object has no attribute 'code'\n",
      "\n",
      "Exception in thread Thread-21:\n",
      "Traceback (most recent call last):\n",
      "  File \"/Users/kourosh/anaconda3/envs/python2/lib/python2.7/threading.py\", line 801, in __bootstrap_inner\n",
      "    self.run()\n",
      "  File \"/Users/kourosh/anaconda3/envs/python2/lib/python2.7/threading.py\", line 754, in run\n",
      "    self.__target(*self.__args, **self.__kwargs)\n",
      "  File \"/Users/kourosh/anaconda3/envs/python2/lib/python2.7/site-packages/unirest/__init__.py\", line 108, in __request\n",
      "    callback(_unirestResponse)\n",
      "  File \"<ipython-input-6-c1beae98d3d5>\", line 12, in callback_function\n",
      "    response= status_check(response, url)\n",
      "  File \"<ipython-input-6-c1beae98d3d5>\", line 9, in status_check\n",
      "    return status_check(s2, url)\n",
      "  File \"<ipython-input-6-c1beae98d3d5>\", line 5, in status_check\n",
      "    if response.code!=200:\n",
      "AttributeError: 'Thread' object has no attribute 'code'\n",
      "\n"
     ]
    }
   ],
   "source": [
    "list_of_lists\n"
   ]
  },
  {
   "cell_type": "code",
   "execution_count": 217,
   "metadata": {},
   "outputs": [],
   "source": [
    "df_output = pd.DataFrame(list_of_lists)"
   ]
  },
  {
   "cell_type": "code",
   "execution_count": 218,
   "metadata": {},
   "outputs": [
    {
     "name": "stderr",
     "output_type": "stream",
     "text": [
      "Exception in thread Thread-203078:\n",
      "Traceback (most recent call last):\n",
      "  File \"/Users/kourosh/anaconda3/envs/python2/lib/python2.7/threading.py\", line 801, in __bootstrap_inner\n",
      "    self.run()\n",
      "  File \"/Users/kourosh/anaconda3/envs/python2/lib/python2.7/threading.py\", line 754, in run\n",
      "    self.__target(*self.__args, **self.__kwargs)\n",
      "  File \"/Users/kourosh/anaconda3/envs/python2/lib/python2.7/site-packages/unirest/__init__.py\", line 108, in __request\n",
      "    callback(_unirestResponse)\n",
      "  File \"<ipython-input-183-cdf87d81167c>\", line 12, in callback_function\n",
      "    response= status_check(response, url)\n",
      "  File \"<ipython-input-183-cdf87d81167c>\", line 9, in status_check\n",
      "    return status_check(s2, url)\n",
      "  File \"<ipython-input-183-cdf87d81167c>\", line 5, in status_check\n",
      "    if response.code!=200:\n",
      "AttributeError: 'Thread' object has no attribute 'code'\n",
      "\n"
     ]
    },
    {
     "name": "stdout",
     "output_type": "stream",
     "text": [
      "(503, 'https://www.indiegogo.com/individuals/12122709/campaigns')\n",
      "(503, 'for:', 'https://www.indiegogo.com/individuals/12122709/campaigns')\n"
     ]
    },
    {
     "name": "stderr",
     "output_type": "stream",
     "text": [
      "Exception in thread Thread-203081:\n",
      "Traceback (most recent call last):\n",
      "  File \"/Users/kourosh/anaconda3/envs/python2/lib/python2.7/threading.py\", line 801, in __bootstrap_inner\n",
      "    self.run()\n",
      "  File \"/Users/kourosh/anaconda3/envs/python2/lib/python2.7/threading.py\", line 754, in run\n",
      "    self.__target(*self.__args, **self.__kwargs)\n",
      "  File \"/Users/kourosh/anaconda3/envs/python2/lib/python2.7/site-packages/unirest/__init__.py\", line 108, in __request\n",
      "    callback(_unirestResponse)\n",
      "  File \"<ipython-input-183-cdf87d81167c>\", line 12, in callback_function\n",
      "    response= status_check(response, url)\n",
      "  File \"<ipython-input-183-cdf87d81167c>\", line 9, in status_check\n",
      "    return status_check(s2, url)\n",
      "  File \"<ipython-input-183-cdf87d81167c>\", line 5, in status_check\n",
      "    if response.code!=200:\n",
      "AttributeError: 'Thread' object has no attribute 'code'\n",
      "\n"
     ]
    },
    {
     "name": "stdout",
     "output_type": "stream",
     "text": [
      "503\n"
     ]
    },
    {
     "name": "stderr",
     "output_type": "stream",
     "text": [
      "Exception in thread Thread-203082:\n",
      "Traceback (most recent call last):\n",
      "  File \"/Users/kourosh/anaconda3/envs/python2/lib/python2.7/threading.py\", line 801, in __bootstrap_inner\n",
      "    self.run()\n",
      "  File \"/Users/kourosh/anaconda3/envs/python2/lib/python2.7/threading.py\", line 754, in run\n",
      "    self.__target(*self.__args, **self.__kwargs)\n",
      "  File \"/Users/kourosh/anaconda3/envs/python2/lib/python2.7/site-packages/unirest/__init__.py\", line 108, in __request\n",
      "    callback(_unirestResponse)\n",
      "  File \"<ipython-input-210-ea37708dcc4f>\", line 12, in callback_function\n",
      "    response= status_check(response, url)\n",
      "  File \"<ipython-input-210-ea37708dcc4f>\", line 9, in status_check\n",
      "    return status_check(s2, url)\n",
      "  File \"<ipython-input-210-ea37708dcc4f>\", line 5, in status_check\n",
      "    if response.code!=200:\n",
      "AttributeError: 'Thread' object has no attribute 'code'\n",
      "\n",
      "Exception in thread Thread-203083:\n",
      "Traceback (most recent call last):\n",
      "  File \"/Users/kourosh/anaconda3/envs/python2/lib/python2.7/threading.py\", line 801, in __bootstrap_inner\n",
      "    self.run()\n",
      "  File \"/Users/kourosh/anaconda3/envs/python2/lib/python2.7/threading.py\", line 754, in run\n",
      "    self.__target(*self.__args, **self.__kwargs)\n",
      "  File \"/Users/kourosh/anaconda3/envs/python2/lib/python2.7/site-packages/unirest/__init__.py\", line 108, in __request\n",
      "    callback(_unirestResponse)\n",
      "  File \"<ipython-input-214-c1beae98d3d5>\", line 12, in callback_function\n",
      "    response= status_check(response, url)\n",
      "  File \"<ipython-input-214-c1beae98d3d5>\", line 9, in status_check\n",
      "    return status_check(s2, url)\n",
      "  File \"<ipython-input-214-c1beae98d3d5>\", line 5, in status_check\n",
      "    if response.code!=200:\n",
      "AttributeError: 'Thread' object has no attribute 'code'\n",
      "\n"
     ]
    },
    {
     "name": "stdout",
     "output_type": "stream",
     "text": [
      "503\n",
      "(503, 'https://www.indiegogo.com/individuals/12122709/campaigns')\n",
      "(503, 'for:', 'https://www.indiegogo.com/individuals/12122709/campaigns')\n"
     ]
    },
    {
     "name": "stderr",
     "output_type": "stream",
     "text": [
      "Exception in thread Thread-203086:\n",
      "Traceback (most recent call last):\n",
      "  File \"/Users/kourosh/anaconda3/envs/python2/lib/python2.7/threading.py\", line 801, in __bootstrap_inner\n",
      "    self.run()\n",
      "  File \"/Users/kourosh/anaconda3/envs/python2/lib/python2.7/threading.py\", line 754, in run\n",
      "    self.__target(*self.__args, **self.__kwargs)\n",
      "  File \"/Users/kourosh/anaconda3/envs/python2/lib/python2.7/site-packages/unirest/__init__.py\", line 108, in __request\n",
      "    callback(_unirestResponse)\n",
      "  File \"<ipython-input-210-ea37708dcc4f>\", line 12, in callback_function\n",
      "    response= status_check(response, url)\n",
      "  File \"<ipython-input-210-ea37708dcc4f>\", line 9, in status_check\n",
      "    return status_check(s2, url)\n",
      "  File \"<ipython-input-210-ea37708dcc4f>\", line 5, in status_check\n",
      "    if response.code!=200:\n",
      "AttributeError: 'Thread' object has no attribute 'code'\n",
      "\n",
      "Exception in thread Thread-203087:\n",
      "Traceback (most recent call last):\n",
      "  File \"/Users/kourosh/anaconda3/envs/python2/lib/python2.7/threading.py\", line 801, in __bootstrap_inner\n",
      "    self.run()\n",
      "  File \"/Users/kourosh/anaconda3/envs/python2/lib/python2.7/threading.py\", line 754, in run\n",
      "    self.__target(*self.__args, **self.__kwargs)\n",
      "  File \"/Users/kourosh/anaconda3/envs/python2/lib/python2.7/site-packages/unirest/__init__.py\", line 108, in __request\n",
      "    callback(_unirestResponse)\n",
      "  File \"<ipython-input-214-c1beae98d3d5>\", line 12, in callback_function\n",
      "    response= status_check(response, url)\n",
      "  File \"<ipython-input-214-c1beae98d3d5>\", line 9, in status_check\n",
      "    return status_check(s2, url)\n",
      "  File \"<ipython-input-214-c1beae98d3d5>\", line 5, in status_check\n",
      "    if response.code!=200:\n",
      "AttributeError: 'Thread' object has no attribute 'code'\n",
      "\n",
      "Exception in thread Thread-203084:\n",
      "Traceback (most recent call last):\n",
      "  File \"/Users/kourosh/anaconda3/envs/python2/lib/python2.7/threading.py\", line 801, in __bootstrap_inner\n",
      "    self.run()\n",
      "  File \"/Users/kourosh/anaconda3/envs/python2/lib/python2.7/threading.py\", line 754, in run\n",
      "    self.__target(*self.__args, **self.__kwargs)\n",
      "  File \"/Users/kourosh/anaconda3/envs/python2/lib/python2.7/site-packages/unirest/__init__.py\", line 108, in __request\n",
      "    callback(_unirestResponse)\n",
      "  File \"<ipython-input-183-cdf87d81167c>\", line 12, in callback_function\n",
      "    response= status_check(response, url)\n",
      "  File \"<ipython-input-183-cdf87d81167c>\", line 9, in status_check\n",
      "    return status_check(s2, url)\n",
      "  File \"<ipython-input-183-cdf87d81167c>\", line 5, in status_check\n",
      "    if response.code!=200:\n",
      "AttributeError: 'Thread' object has no attribute 'code'\n",
      "\n"
     ]
    },
    {
     "name": "stdout",
     "output_type": "stream",
     "text": [
      "(503, 'https://www.indiegogo.com/individuals/12122709/campaigns')\n"
     ]
    },
    {
     "name": "stderr",
     "output_type": "stream",
     "text": [
      "Exception in thread Thread-203088:\n",
      "Traceback (most recent call last):\n",
      "  File \"/Users/kourosh/anaconda3/envs/python2/lib/python2.7/threading.py\", line 801, in __bootstrap_inner\n",
      "    self.run()\n",
      "  File \"/Users/kourosh/anaconda3/envs/python2/lib/python2.7/threading.py\", line 754, in run\n",
      "    self.__target(*self.__args, **self.__kwargs)\n",
      "  File \"/Users/kourosh/anaconda3/envs/python2/lib/python2.7/site-packages/unirest/__init__.py\", line 108, in __request\n",
      "    callback(_unirestResponse)\n",
      "  File \"<ipython-input-210-ea37708dcc4f>\", line 12, in callback_function\n",
      "    response= status_check(response, url)\n",
      "  File \"<ipython-input-210-ea37708dcc4f>\", line 9, in status_check\n",
      "    return status_check(s2, url)\n",
      "  File \"<ipython-input-210-ea37708dcc4f>\", line 5, in status_check\n",
      "    if response.code!=200:\n",
      "AttributeError: 'Thread' object has no attribute 'code'\n",
      "\n",
      "Exception in thread Thread-203085:\n",
      "Traceback (most recent call last):\n",
      "  File \"/Users/kourosh/anaconda3/envs/python2/lib/python2.7/threading.py\", line 801, in __bootstrap_inner\n",
      "    self.run()\n",
      "  File \"/Users/kourosh/anaconda3/envs/python2/lib/python2.7/threading.py\", line 754, in run\n",
      "    self.__target(*self.__args, **self.__kwargs)\n",
      "  File \"/Users/kourosh/anaconda3/envs/python2/lib/python2.7/site-packages/unirest/__init__.py\", line 108, in __request\n",
      "    callback(_unirestResponse)\n",
      "  File \"<ipython-input-183-cdf87d81167c>\", line 12, in callback_function\n",
      "    response= status_check(response, url)\n",
      "  File \"<ipython-input-183-cdf87d81167c>\", line 9, in status_check\n",
      "    return status_check(s2, url)\n",
      "  File \"<ipython-input-183-cdf87d81167c>\", line 5, in status_check\n",
      "    if response.code!=200:\n",
      "AttributeError: 'Thread' object has no attribute 'code'\n",
      "\n"
     ]
    }
   ],
   "source": [
    "df_output.to_csv(\"output.csv\", sep=',')"
   ]
  },
  {
   "cell_type": "code",
   "execution_count": null,
   "metadata": {},
   "outputs": [],
   "source": [
    "#url_test = \"https://www.indiegogo.com/individuals/9016147/campaigns\"\n",
    "#url_test = \"https://www.indiegogo.com/individuals/19107726/campaigns\"\n",
    "\n",
    "#response=unirest.get(url_test, headers=hdrs)\n",
    "\n",
    "\n",
    "\n",
    "\n",
    "tree = html.fromstring(response.body)\n",
    "#temp= extract_css(tree,'div.i-profile-campaigns-section')\n",
    "temp_on =tree.xpath(\"//h3[contains(text(),'On')]\")\n",
    "temp_following =tree.xpath(\"//h3[contains(text(),'Following')]\")\n",
    "temp_funded =tree.xpath(\"//h3[contains(text(),'Funded')]\")\n",
    "\n",
    "#if temp: data_dict[\"projects\"]= [t.get('href') for t in temp]\n",
    "#temp=tree.xpath(\"//div[contains(@href,\"s=Campaigns I'm On)]\")[0]\n",
    "#temp[2].text_content()\n",
    "#x=temp2[0].getparent().xpath('.//li/a/@href')\n",
    "#if temp_on:\n",
    "#    x=extract_css(temp_on[0].getparent(),'div.i-campaign > a')\n",
    "#    y=extract_css(temp_on[0].getparent(),'div.i-author > a')\n",
    "#    if x:\n",
    "#        for each_project in xrange(len(x)):\n",
    "#            print(x[each_project].get('href'))\n",
    "#            print(y[each_project].get('href'))\n",
    "\n",
    "11753157\n",
    "\n"
   ]
  },
  {
   "cell_type": "code",
   "execution_count": null,
   "metadata": {},
   "outputs": [],
   "source": [
    "url_test = \"https://www.indiegogo.com/individuals/13431319/campaigns\"\n",
    "response=unirest.get(url_test, headers=hdrs)\n",
    "print(response.code)\n",
    "print(response.headers)\n",
    "\n"
   ]
  },
  {
   "cell_type": "code",
   "execution_count": null,
   "metadata": {},
   "outputs": [],
   "source": [
    "tree = html.fromstring(response.body)\n",
    "temp_on_ =tree.xpath(\"//h3[contains(text(),'On')]\")\n",
    "x=extract_css(temp_on_[0].getparent(),'div.i-campaign > a')\n",
    "y=extract_css(temp_on_[0].getparent(),'div.i-author > a')\n",
    "if x:\n",
    "    for each_project in xrange(len(x)):\n",
    "        print(x[each_project].get('href'))\n",
    "        print(y[each_project].get('href'))\n",
    "\n"
   ]
  },
  {
   "cell_type": "code",
   "execution_count": null,
   "metadata": {},
   "outputs": [],
   "source": [
    "len(df)"
   ]
  },
  {
   "cell_type": "code",
   "execution_count": null,
   "metadata": {},
   "outputs": [],
   "source": []
  }
 ],
 "metadata": {
  "kernelspec": {
   "display_name": "Python 2",
   "language": "python",
   "name": "python2"
  },
  "language_info": {
   "codemirror_mode": {
    "name": "ipython",
    "version": 2
   },
   "file_extension": ".py",
   "mimetype": "text/x-python",
   "name": "python",
   "nbconvert_exporter": "python",
   "pygments_lexer": "ipython2",
   "version": "2.7.14"
  }
 },
 "nbformat": 4,
 "nbformat_minor": 2
}
